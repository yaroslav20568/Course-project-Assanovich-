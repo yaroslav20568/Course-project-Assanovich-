{
 "cells": [
  {
   "cell_type": "code",
   "execution_count": 12,
   "id": "8c10ca7c",
   "metadata": {},
   "outputs": [],
   "source": [
    "import matplotlib.pyplot as plt\n",
    "import numpy as np \n",
    "import random"
   ]
  },
  {
   "cell_type": "code",
   "execution_count": 13,
   "id": "e6e12c66",
   "metadata": {},
   "outputs": [],
   "source": [
    "x_list = list(range(0, random.randint(1, 10)))\n",
    "\n",
    "def buildDiagram(x_list):\n",
    "#     x_list = list(range(0, random.randint(1, 10)))\n",
    "    y_list = []\n",
    "    for i in range(len(x_list)):\n",
    "        y_list.append(random.randint(1, 20))\n",
    "\n",
    "#     print(x_list)\n",
    "#     print(y_list)\n",
    "    \n",
    "    plt.bar(x_list, y_list)\n",
    "    plt.show()\n",
    "    return [x_list, y_list]"
   ]
  },
  {
   "cell_type": "code",
   "execution_count": 14,
   "id": "8b250c2f",
   "metadata": {},
   "outputs": [
    {
     "data": {
      "image/png": "[encoded data removed]",
      "text/plain": [
       "<Figure size 432x288 with 1 Axes>"
      ]
     },
     "metadata": {
      "needs_background": "light"
     },
     "output_type": "display_data"
    },
    {
     "name": "stdout",
     "output_type": "stream",
     "text": [
      "[[0, 1, 2, 3, 4, 5, 6, 7], [5, 20, 6, 3, 5, 15, 14, 5]]\n"
     ]
    }
   ],
   "source": [
    "first_diagram = buildDiagram(x_list)\n",
    "print(first_diagram)"
   ]
  },
  {
   "cell_type": "code",
   "execution_count": 15,
   "id": "c229616e",
   "metadata": {},
   "outputs": [
    {
     "data": {
      "image/png": "[encoded data removed]",
      "text/plain": [
       "<Figure size 432x288 with 1 Axes>"
      ]
     },
     "metadata": {
      "needs_background": "light"
     },
     "output_type": "display_data"
    },
    {
     "name": "stdout",
     "output_type": "stream",
     "text": [
      "[[0, 1, 2, 3, 4, 5, 6, 7], [16, 6, 14, 6, 20, 4, 11, 6]]\n"
     ]
    }
   ],
   "source": [
    "second_diagram = buildDiagram(x_list)\n",
    "print(second_diagram)"
   ]
  },
  {
   "cell_type": "code",
   "execution_count": 16,
   "id": "edb0cf88",
   "metadata": {},
   "outputs": [
    {
     "name": "stdout",
     "output_type": "stream",
     "text": [
      "[[1. 1.]\n",
      " [1. 1.]]\n",
      "[[ 1.         -0.30643209]\n",
      " [-0.30643209  1.        ]]\n"
     ]
    }
   ],
   "source": [
    "corr_x = np.corrcoef(first_diagram[0], second_diagram[0]) \n",
    "corr_y = np.corrcoef(first_diagram[0], second_diagram[1]) \n",
    "\n",
    "print(corr_x)\n",
    "print(corr_y)"
   ]
  }
 ],
 "metadata": {
  "kernelspec": {
   "display_name": "Python 3 (ipykernel)",
   "language": "python",
   "name": "python3"
  },
  "language_info": {
   "codemirror_mode": {
    "name": "ipython",
    "version": 3
   },
   "file_extension": ".py",
   "mimetype": "text/x-python",
   "name": "python",
   "nbconvert_exporter": "python",
   "pygments_lexer": "ipython3",
   "version": "3.9.0"
  }
 },
 "nbformat": 4,
 "nbformat_minor": 5
}
